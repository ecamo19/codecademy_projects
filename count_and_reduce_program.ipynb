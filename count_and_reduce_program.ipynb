{
 "cells": [
  {
   "cell_type": "code",
   "execution_count": 1,
   "id": "raised-logan",
   "metadata": {},
   "outputs": [],
   "source": [
    "# Packages ----------------------------------------------------------------------\n",
    "import cv2\n",
    "from PIL import Image\n",
    "import numpy as np\n",
    "import glob\n",
    "import os\n",
    "import matplotlib.pyplot as plt\n",
    "from matplotlib.pyplot import figure"
   ]
  },
  {
   "cell_type": "code",
   "execution_count": 2,
   "id": "digital-substance",
   "metadata": {},
   "outputs": [],
   "source": [
    "# Load program\n",
    "from functions.count_and_reduce_program import *"
   ]
  },
  {
   "cell_type": "code",
   "execution_count": 3,
   "id": "steady-recommendation",
   "metadata": {},
   "outputs": [
    {
     "name": "stdout",
     "output_type": "stream",
     "text": [
      "hello7\n"
     ]
    }
   ],
   "source": [
    "print(\"hello7\")"
   ]
  },
  {
   "cell_type": "code",
   "execution_count": 4,
   "id": "biological-remainder",
   "metadata": {},
   "outputs": [
    {
     "name": "stdout",
     "output_type": "stream",
     "text": [
      "\n",
      "Please,enter the directory where your images are stored\n",
      "...or enter the word test to analize test images included \n",
      "\n",
      "path example: '/path/to/'\n",
      "\tFor quitting the program enter quit.\n"
     ]
    },
    {
     "name": "stdin",
     "output_type": "stream",
     "text": [
      "\n",
      " Where are your images stored? or enter the word test:  test\n"
     ]
    },
    {
     "name": "stdout",
     "output_type": "stream",
     "text": [
      "\n",
      "Images available: \n",
      "\t> bird.png\n",
      "\t> squares.png\n",
      "\t> cr_rainforest.jpg\n"
     ]
    },
    {
     "name": "stdin",
     "output_type": "stream",
     "text": [
      "\n",
      "Which image do you want to analize?:  cr_rainforest.jpg\n"
     ]
    },
    {
     "name": "stdout",
     "output_type": "stream",
     "text": [
      "\n",
      "> Your image has 99097 different colors\n",
      "\n",
      "\n",
      "Do you want to reduce the colors of your image:\n"
     ]
    },
    {
     "name": "stdin",
     "output_type": "stream",
     "text": [
      "yes or no:  5\n"
     ]
    },
    {
     "name": "stdout",
     "output_type": "stream",
     "text": [
      "\n",
      "\tBye!\n",
      "\n"
     ]
    }
   ],
   "source": [
    "count_and_reduce()"
   ]
  },
  {
   "cell_type": "code",
   "execution_count": null,
   "id": "thrown-bailey",
   "metadata": {},
   "outputs": [],
   "source": []
  }
 ],
 "metadata": {
  "kernelspec": {
   "display_name": "Python 3",
   "language": "python",
   "name": "python3"
  },
  "language_info": {
   "codemirror_mode": {
    "name": "ipython",
    "version": 3
   },
   "file_extension": ".py",
   "mimetype": "text/x-python",
   "name": "python",
   "nbconvert_exporter": "python",
   "pygments_lexer": "ipython3",
   "version": "3.8.5"
  }
 },
 "nbformat": 4,
 "nbformat_minor": 5
}
