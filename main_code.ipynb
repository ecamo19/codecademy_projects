{
 "cells": [
  {
   "cell_type": "code",
   "execution_count": 4,
   "id": "preceding-shanghai",
   "metadata": {},
   "outputs": [],
   "source": [
    "# Packages ----------------------------------------------------------------------\n",
    "import cv2\n",
    "from PIL import Image\n",
    "import numpy as np\n",
    "import glob\n",
    "import os\n",
    "import matplotlib.pyplot as plt\n",
    "from matplotlib.pyplot import figure"
   ]
  },
  {
   "cell_type": "code",
   "execution_count": 5,
   "id": "mathematical-sleep",
   "metadata": {},
   "outputs": [],
   "source": [
    "# Load program\n",
    "from functions.count_and_reduce_program import *"
   ]
  },
  {
   "cell_type": "raw",
   "id": "played-simulation",
   "metadata": {},
   "source": [
    "count_and_reduce()"
   ]
  }
 ],
 "metadata": {
  "kernelspec": {
   "display_name": "Python 3",
   "language": "python",
   "name": "python3"
  },
  "language_info": {
   "codemirror_mode": {
    "name": "ipython",
    "version": 3
   },
   "file_extension": ".py",
   "mimetype": "text/x-python",
   "name": "python",
   "nbconvert_exporter": "python",
   "pygments_lexer": "ipython3",
   "version": "3.8.5"
  }
 },
 "nbformat": 4,
 "nbformat_minor": 5
}
