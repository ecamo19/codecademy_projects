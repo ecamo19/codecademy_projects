{
 "cells": [
  {
   "cell_type": "code",
   "execution_count": 2,
   "id": "developmental-milwaukee",
   "metadata": {},
   "outputs": [],
   "source": [
    "# Packages ----------------------------------------------------------------------\n",
    "import cv2\n",
    "from PIL import Image\n",
    "import numpy as np\n",
    "import glob\n",
    "import os\n",
    "import matplotlib.pyplot as plt\n",
    "from matplotlib.pyplot import figure"
   ]
  },
  {
   "cell_type": "code",
   "execution_count": 3,
   "id": "quantitative-present",
   "metadata": {},
   "outputs": [],
   "source": [
    "# Load program\n",
    "from functions.count_and_reduce_program import *"
   ]
  },
  {
   "cell_type": "code",
   "execution_count": null,
   "id": "civil-effort",
   "metadata": {},
   "outputs": [
    {
     "name": "stdout",
     "output_type": "stream",
     "text": [
      "\n",
      "Please,enter the directory where your images are stored\n",
      "...or enter the word test to analize test images included \n",
      "\n",
      "path example: '/path/to/'\n",
      "\tFor quitting the program enter quit.\n"
     ]
    },
    {
     "name": "stdin",
     "output_type": "stream",
     "text": [
      "\n",
      " Where are your images stored? or enter the word test:  test\n"
     ]
    },
    {
     "name": "stdout",
     "output_type": "stream",
     "text": [
      "\n",
      "Images available: \n",
      "\t> bird.png\n",
      "\t> squares.png\n",
      "\t> cr_rainforest.jpg\n"
     ]
    }
   ],
   "source": [
    "count_and_reduce()"
   ]
  },
  {
   "cell_type": "code",
   "execution_count": null,
   "id": "promising-ambassador",
   "metadata": {},
   "outputs": [],
   "source": [
    " "
   ]
  },
  {
   "cell_type": "code",
   "execution_count": null,
   "id": "damaged-tumor",
   "metadata": {},
   "outputs": [],
   "source": []
  }
 ],
 "metadata": {
  "kernelspec": {
   "display_name": "Python 3",
   "language": "python",
   "name": "python3"
  },
  "language_info": {
   "codemirror_mode": {
    "name": "ipython",
    "version": 3
   },
   "file_extension": ".py",
   "mimetype": "text/x-python",
   "name": "python",
   "nbconvert_exporter": "python",
   "pygments_lexer": "ipython3",
   "version": "3.8.5"
  }
 },
 "nbformat": 4,
 "nbformat_minor": 5
}
